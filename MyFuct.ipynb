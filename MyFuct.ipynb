{
 "cells": [
  {
   "cell_type": "code",
   "execution_count": null,
   "metadata": {
    "collapsed": true
   },
   "outputs": [],
   "source": [
    "import numpy as np\n",
    "import os\n",
    "import six.moves.urllib as urllib\n",
    "import sys\n",
    "import tarfile\n",
    "import tensorflow as tf\n",
    "import zipfile\n",
    "import collections\n",
    "import numpy as np\n",
    "import PIL.Image as Image\n",
    "import PIL.ImageColor as ImageColor\n",
    "import PIL.ImageDraw as ImageDraw\n",
    "import PIL.ImageFont as ImageFont\n",
    "import six\n",
    "import tensorflow as tf\n",
    "from collections import defaultdict\n",
    "from io import StringIO\n",
    "from matplotlib import pyplot as plt\n",
    "from PIL import Image"
   ]
  },
  {
   "cell_type": "code",
   "execution_count": null,
   "metadata": {
    "collapsed": true
   },
   "outputs": [],
   "source": [
    "PATH_TO_CKPT = '/home/evotianus/CarND-Capstone/training/v3.pb'\n",
    "# List of the strings that is used to add correct label for each box.\n",
    "# PATH_TO_LABELS = os.path.join('data', 'mscoco_label_map.pbtxt')\n",
    "PATH_TO_LABELS = \"/home/evotianus/CarND-Capstone/training/labelmap_an.pbtxt\"\n",
    "# PATH_TO_LABELS = '/home/evotianus/Desktop/tensorflow_custom/models/object_detection/racoon/doggo-racoon.pbtxt'\n",
    "\n",
    "NUM_CLASSES = 14"
   ]
  },
  {
   "cell_type": "code",
   "execution_count": null,
   "metadata": {
    "collapsed": true
   },
   "outputs": [],
   "source": [
    "detection_graph = tf.Graph()\n",
    "with detection_graph.as_default():\n",
    "  od_graph_def = tf.GraphDef()\n",
    "  with tf.gfile.GFile(PATH_TO_CKPT, 'rb') as fid:\n",
    "    serialized_graph = fid.read()\n",
    "    od_graph_def.ParseFromString(serialized_graph)\n",
    "    tf.import_graph_def(od_graph_def, name='')"
   ]
  },
  {
   "cell_type": "code",
   "execution_count": null,
   "metadata": {
    "collapsed": true
   },
   "outputs": [],
   "source": [
    "def load_image_into_numpy_array(image):\n",
    "  (im_width, im_height) = image.size\n",
    "  return np.array(image.getdata()).reshape(\n",
    "      (im_height, im_width, 3)).astype(np.uint8)"
   ]
  },
  {
   "cell_type": "code",
   "execution_count": null,
   "metadata": {
    "collapsed": true
   },
   "outputs": [],
   "source": [
    "PATH_TO_TEST_IMAGES_DIR = 'test_images'\n",
    "import glob\n",
    "from random import shuffle\n",
    "# TEST_IMAGE_PATHS = [ os.path.join(PATH_TO_TEST_IMAGES_DIR, 'image{}.jpg'.format(i)) for i in range(5, 7) ]\n",
    "TEST_IMAGE_PATHS = glob.glob('/home/evotianus/CarND-Capstone/images/*.png')\n",
    "shuffle(TEST_IMAGE_PATHS)\n",
    "# TEST_IMAGE_PATHS = TEST_IMAGE_PATHS[0:50]\n",
    "# Size, in inches, of the output images.\n",
    "IMAGE_SIZE = (5, 5)"
   ]
  },
  {
   "cell_type": "code",
   "execution_count": null,
   "metadata": {},
   "outputs": [],
   "source": [
    "TEST_IMAGE_PATHS = TEST_IMAGE_PATHS[0:100]"
   ]
  },
  {
   "cell_type": "code",
   "execution_count": null,
   "metadata": {
    "collapsed": true
   },
   "outputs": [],
   "source": [
    "image_tensor = detection_graph.get_tensor_by_name('image_tensor:0')\n",
    "# Each box represents a part of the image where a particular object was detected.\n",
    "boxes_tensor = detection_graph.get_tensor_by_name('detection_boxes:0')\n",
    "# Each score represent how level of confidence for each of the objects.\n",
    "# Score is shown on the result image, together with the class label.\n",
    "scores_tensor = detection_graph.get_tensor_by_name('detection_scores:0')\n",
    "classes_tensor = detection_graph.get_tensor_by_name('detection_classes:0')\n",
    "num_detections_tensor = detection_graph.get_tensor_by_name('num_detections:0')"
   ]
  },
  {
   "cell_type": "code",
   "execution_count": null,
   "metadata": {},
   "outputs": [],
   "source": [
    "import uuid\n",
    "from datetime import datetime\n",
    "\n",
    "timing = []\n",
    "# unique_filename = \n",
    "with detection_graph.as_default():\n",
    "  with tf.Session(graph=detection_graph) as sess:\n",
    "    for image_path in TEST_IMAGE_PATHS:\n",
    "      image = Image.open(image_path)\n",
    "      # the array based representation of the image will be used later in order to prepare the\n",
    "      # result image with boxes and labels on it.\n",
    "      image_np = load_image_into_numpy_array(image)\n",
    "      # Expand dimensions since the model expects images to have shape: [1, None, None, 3]\n",
    "      image_np_expanded = np.expand_dims(image_np, axis=0)\n",
    "      start = datetime.now()\n",
    "      # Actual detection.\n",
    "      (boxes, scores, classes, num_detections) = sess.run(\n",
    "          [boxes_tensor, scores_tensor, classes_tensor, num_detections_tensor],\n",
    "          feed_dict={image_tensor: image_np_expanded})\n",
    "      timing.append(datetime.now()-start)\n",
    "      box = tuple(boxes[0].tolist())\n",
    "      ymin, xmin, ymax, xmax = box[0]\n",
    "      im_width, im_height = image.size\n",
    "      (left, right, top, bottom) = (xmin * im_width, xmax * im_width,\n",
    "                                  ymin * im_height, ymax * im_height)\n",
    "      left = int(left) +5\n",
    "      right = int(right) - 5\n",
    "      top = int(top) +5\n",
    "      bottom = int(bottom) - 5\n",
    "      img = image.crop((left,top,right,bottom))\n",
    "      counted = collections.Counter(classes.tolist()[0])\n",
    "      indx=int(counted.most_common()[0][0])\n",
    "      pred = (categories[indx-1]['name'])\n",
    "      pred_score = (scores[0][0])\n",
    "      \n",
    "#       img.save(fp=\"/home/evotianus/CarND-Capstone/training/V3/{}.png\".format(str(uuid.uuid4())))"
   ]
  },
  {
   "cell_type": "code",
   "execution_count": null,
   "metadata": {},
   "outputs": [],
   "source": []
  }
 ],
 "metadata": {
  "kernelspec": {
   "display_name": "Python 3",
   "language": "python",
   "name": "python3"
  },
  "language_info": {
   "codemirror_mode": {
    "name": "ipython",
    "version": 3
   },
   "file_extension": ".py",
   "mimetype": "text/x-python",
   "name": "python",
   "nbconvert_exporter": "python",
   "pygments_lexer": "ipython3",
   "version": "3.6.2"
  }
 },
 "nbformat": 4,
 "nbformat_minor": 2
}
