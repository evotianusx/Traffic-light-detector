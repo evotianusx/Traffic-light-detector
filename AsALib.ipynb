{
 "cells": [
  {
   "cell_type": "code",
   "execution_count": null,
   "metadata": {
    "collapsed": true
   },
   "outputs": [],
   "source": [
    "class predictor(object):\n",
    "\n",
    "    def __init__(self,modelpath,categorypath):\n",
    "        \n",
    "        import numpy as np\n",
    "        import os\n",
    "        import six.moves.urllib as urllib\n",
    "        import sys\n",
    "        import tarfile\n",
    "        import tensorflow as tf\n",
    "        import zipfile\n",
    "        import collections\n",
    "        import numpy as np\n",
    "        \n",
    "        import PIL.ImageColor as ImageColor\n",
    "        import PIL.ImageDraw as ImageDraw\n",
    "        import PIL.ImageFont as ImageFont\n",
    "        import six\n",
    "        import tensorflow as tf\n",
    "        from collections import defaultdict\n",
    "        from io import StringIO\n",
    "        from matplotlib import pyplot as plt\n",
    "        from PIL import Image\n",
    "        \n",
    "        self.modelpath = modelpath\n",
    "#         self.labelpath = labelpath\n",
    "        self.categorypath = categorypath\n",
    "        detection_graph = tf.Graph()\n",
    "        with detection_graph.as_default():\n",
    "            od_graph_def = tf.GraphDef()\n",
    "            with tf.gfile.GFile(PATH_TO_CKPT, 'rb') as fid:\n",
    "                serialized_graph = fid.read()\n",
    "                od_graph_def.ParseFromString(serialized_graph)\n",
    "                tf.import_graph_def(od_graph_def, name='')\n",
    "        self.graph = detection_graph\n",
    "        \n",
    "        \n",
    "        self.image_tensor = detection_graph.get_tensor_by_name('image_tensor:0')\n",
    "        self.boxes_tensor = detection_graph.get_tensor_by_name('detection_boxes:0')\n",
    "        self.scores_tensor = detection_graph.get_tensor_by_name('detection_scores:0')\n",
    "        self.classes_tensor = detection_graph.get_tensor_by_name('detection_classes:0')\n",
    "        self.tf = tf\n",
    "        import pickle\n",
    "        f = open(categorypath,'rb')\n",
    "        self.categories = pickle.loads(f.read())\n",
    "        f.close()\n",
    "        \n",
    "        \n",
    "    def load_image_into_numpy_array(self,image):\n",
    "        import numpy as np\n",
    "        (im_width, im_height) = image.size\n",
    "        return np.array(image.getdata()).reshape((im_height, im_width, 3)).astype(np.uint8)\n",
    "    def predict(self,image_path):\n",
    "        import PIL.Image as Image\n",
    "        import numpy as np\n",
    "        import collections\n",
    "        with self.graph.as_default():\n",
    "            with self.tf.Session(graph=self.graph) as sess:\n",
    "                image = Image.open(image_path)\n",
    "                image_np = self.load_image_into_numpy_array(image)\n",
    "                image_np_expanded = np.expand_dims(image_np, axis=0)\n",
    "                (boxes, scores, classes) = sess.run(\n",
    "                    [self.boxes_tensor, self.scores_tensor, self.classes_tensor],feed_dict={self.image_tensor: image_np_expanded})\n",
    "                box = tuple(boxes[0].tolist())\n",
    "#                 print(box)\n",
    "                ymin, xmin, ymax, xmax = box[0]\n",
    "                im_width, im_height = image.size\n",
    "                (left, right, top, bottom) = (xmin * im_width, xmax * im_width,\n",
    "                                  ymin * im_height, ymax * im_height)\n",
    "                left = int(left) -0\n",
    "                right = int(right) +0\n",
    "                top = int(top) +0\n",
    "                bottom = int(bottom) -0\n",
    "                img = image.crop((left,top,right,bottom))\n",
    "                counted = collections.Counter(classes.tolist()[0])\n",
    "                indx=int(counted.most_common()[0][0])\n",
    "                pred = (self.categories[indx-1]['name'])\n",
    "                pred_score = (scores[0][0])\n",
    "                return (img,pred,pred_score)"
   ]
  },
  {
   "cell_type": "code",
   "execution_count": null,
   "metadata": {
    "collapsed": true
   },
   "outputs": [],
   "source": [
    "PATH_TO_CKPT = './v3.pb'\n",
    "PATH_TO_LABELS = \"./labelmap_an.pbtxt\""
   ]
  },
  {
   "cell_type": "code",
   "execution_count": null,
   "metadata": {
    "collapsed": true
   },
   "outputs": [],
   "source": [
    "p = predictor(modelpath=PATH_TO_CKPT,categorypath='./categories.pickle')"
   ]
  },
  {
   "cell_type": "code",
   "execution_count": null,
   "metadata": {
    "collapsed": true
   },
   "outputs": [],
   "source": [
    "from glob import glob\n",
    "from random import shuffle"
   ]
  },
  {
   "cell_type": "code",
   "execution_count": null,
   "metadata": {
    "collapsed": true
   },
   "outputs": [],
   "source": [
    "TEST_IMAGE_PATHS = glob('./Test_img/*.png')\n",
    "shuffle(TEST_IMAGE_PATHS)"
   ]
  },
  {
   "cell_type": "code",
   "execution_count": null,
   "metadata": {
    "collapsed": true
   },
   "outputs": [],
   "source": [
    "img,pred,preds = p.predict(TEST_IMAGE_PATHS[2])"
   ]
  },
  {
   "cell_type": "code",
   "execution_count": null,
   "metadata": {},
   "outputs": [],
   "source": [
    "img"
   ]
  },
  {
   "cell_type": "code",
   "execution_count": null,
   "metadata": {},
   "outputs": [],
   "source": [
    "pred"
   ]
  },
  {
   "cell_type": "code",
   "execution_count": null,
   "metadata": {},
   "outputs": [],
   "source": [
    "preds"
   ]
  },
  {
   "cell_type": "markdown",
   "metadata": {
    "collapsed": true
   },
   "source": [
    "Credits to Anthony S for preparing the training record"
   ]
  },
  {
   "cell_type": "code",
   "execution_count": null,
   "metadata": {
    "collapsed": true
   },
   "outputs": [],
   "source": []
  }
 ],
 "metadata": {
  "kernelspec": {
   "display_name": "Python 3",
   "language": "python",
   "name": "python3"
  },
  "language_info": {
   "codemirror_mode": {
    "name": "ipython",
    "version": 3
   },
   "file_extension": ".py",
   "mimetype": "text/x-python",
   "name": "python",
   "nbconvert_exporter": "python",
   "pygments_lexer": "ipython3",
   "version": "3.6.2"
  }
 },
 "nbformat": 4,
 "nbformat_minor": 2
}
