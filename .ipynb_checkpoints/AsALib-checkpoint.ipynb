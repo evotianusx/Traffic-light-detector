{
 "cells": [
  {
   "cell_type": "code",
   "execution_count": 1,
   "metadata": {},
   "outputs": [],
   "source": [
    "from tldetect import predictor\n",
    "\n",
    "#Please manually download the Simulator model from \n",
    "# https://drive.google.com/open?id=0B67Sf3QLsDC8T1NHOEcwcWIzclU\n",
    "# and put in the same folder"
   ]
  },
  {
   "cell_type": "code",
   "execution_count": 2,
   "metadata": {
    "collapsed": true
   },
   "outputs": [],
   "source": [
    "PATH_TO_CKPT = './v3.pb'\n",
    "#Change path to Sim.pb for simulator\n",
    "#v3 is for the real life run\n",
    "PATH_TO_LABELS = \"./labelmap_an.pbtxt\""
   ]
  },
  {
   "cell_type": "code",
   "execution_count": 3,
   "metadata": {},
   "outputs": [],
   "source": [
    "p = predictor(modelpath=PATH_TO_CKPT,categorypath='./categories.pickle')"
   ]
  },
  {
   "cell_type": "code",
   "execution_count": 4,
   "metadata": {
    "collapsed": true
   },
   "outputs": [],
   "source": [
    "from glob import glob\n",
    "from random import shuffle"
   ]
  },
  {
   "cell_type": "code",
   "execution_count": 5,
   "metadata": {
    "collapsed": true
   },
   "outputs": [],
   "source": [
    "TEST_IMAGE_PATHS = glob('./Test_img/*.png')\n",
    "shuffle(TEST_IMAGE_PATHS)"
   ]
  },
  {
   "cell_type": "code",
   "execution_count": 16,
   "metadata": {},
   "outputs": [],
   "source": [
    "img,pred,preds = p.predict(TEST_IMAGE_PATHS[0])"
   ]
  },
  {
   "cell_type": "code",
   "execution_count": 17,
   "metadata": {},
   "outputs": [
    {
     "data": {
      "image/png": "[encoded data removed]",
      "text/plain": [
       "<PIL.Image.Image image mode=RGB size=25x72 at 0x7F5EFF282CC0>"
      ]
     },
     "execution_count": 17,
     "metadata": {},
     "output_type": "execute_result"
    }
   ],
   "source": [
    "img"
   ]
  },
  {
   "cell_type": "code",
   "execution_count": 18,
   "metadata": {},
   "outputs": [
    {
     "data": {
      "text/plain": [
       "'Yellow'"
      ]
     },
     "execution_count": 18,
     "metadata": {},
     "output_type": "execute_result"
    }
   ],
   "source": [
    "pred"
   ]
  },
  {
   "cell_type": "code",
   "execution_count": 19,
   "metadata": {},
   "outputs": [
    {
     "data": {
      "text/plain": [
       "0.1523685"
      ]
     },
     "execution_count": 19,
     "metadata": {},
     "output_type": "execute_result"
    }
   ],
   "source": [
    "preds"
   ]
  },
  {
   "cell_type": "markdown",
   "metadata": {
    "collapsed": true
   },
   "source": [
    "Credits to Anthony S for preparing the training record"
   ]
  },
  {
   "cell_type": "code",
   "execution_count": 10,
   "metadata": {},
   "outputs": [
    {
     "data": {
      "text/plain": [
       "[{'id': 1, 'name': 'Green'},\n",
       " {'id': 2, 'name': 'Red'},\n",
       " {'id': 3, 'name': 'GreenLeft'},\n",
       " {'id': 4, 'name': 'GreenRight'},\n",
       " {'id': 5, 'name': 'RedLeft'},\n",
       " {'id': 6, 'name': 'RedRight'},\n",
       " {'id': 7, 'name': 'Yellow'},\n",
       " {'id': 8, 'name': 'off'},\n",
       " {'id': 9, 'name': 'RedStraight'},\n",
       " {'id': 10, 'name': 'GreenStraight'},\n",
       " {'id': 11, 'name': 'GreenStraightLeft'},\n",
       " {'id': 12, 'name': 'GreenStraightRight'},\n",
       " {'id': 13, 'name': 'RedStraightLeft'},\n",
       " {'id': 14, 'name': 'RedStraightRight'}]"
      ]
     },
     "execution_count": 10,
     "metadata": {},
     "output_type": "execute_result"
    }
   ],
   "source": [
    "p.categories"
   ]
  },
  {
   "cell_type": "code",
   "execution_count": null,
   "metadata": {
    "collapsed": true
   },
   "outputs": [],
   "source": []
  }
 ],
 "metadata": {
  "kernelspec": {
   "display_name": "Python 3",
   "language": "python",
   "name": "python3"
  },
  "language_info": {
   "codemirror_mode": {
    "name": "ipython",
    "version": 3
   },
   "file_extension": ".py",
   "mimetype": "text/x-python",
   "name": "python",
   "nbconvert_exporter": "python",
   "pygments_lexer": "ipython3",
   "version": "3.6.2"
  }
 },
 "nbformat": 4,
 "nbformat_minor": 2
}
