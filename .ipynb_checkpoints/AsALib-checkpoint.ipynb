{
 "cells": [
  {
   "cell_type": "code",
<<<<<<< HEAD
   "execution_count": 1,
   "metadata": {},
   "outputs": [],
   "source": [
    "from tldetect import predictor\n",
    "\n",
    "#Please manually download the Simulator model from \n",
    "# https://drive.google.com/open?id=0B67Sf3QLsDC8T1NHOEcwcWIzclU\n",
    "# and put in the same folder"
=======
   "execution_count": 12,
   "metadata": {
    "collapsed": true
   },
   "outputs": [],
   "source": [
    "class predictor(object):\n",
    "\n",
    "    def __init__(self,modelpath,categorypath):\n",
    "        \n",
    "        import numpy as np\n",
    "        import os\n",
    "        import six.moves.urllib as urllib\n",
    "        import sys\n",
    "        import tarfile\n",
    "        import tensorflow as tf\n",
    "        import zipfile\n",
    "        import collections\n",
    "        import numpy as np\n",
    "        \n",
    "        import PIL.ImageColor as ImageColor\n",
    "        import PIL.ImageDraw as ImageDraw\n",
    "        import PIL.ImageFont as ImageFont\n",
    "        import six\n",
    "        import tensorflow as tf\n",
    "        from collections import defaultdict\n",
    "        from io import StringIO\n",
    "        from matplotlib import pyplot as plt\n",
    "        from PIL import Image\n",
    "        \n",
    "        self.modelpath = modelpath\n",
    "#         self.labelpath = labelpath\n",
    "        self.categorypath = categorypath\n",
    "        detection_graph = tf.Graph()\n",
    "        with detection_graph.as_default():\n",
    "            od_graph_def = tf.GraphDef()\n",
    "            with tf.gfile.GFile(PATH_TO_CKPT, 'rb') as fid:\n",
    "                serialized_graph = fid.read()\n",
    "                od_graph_def.ParseFromString(serialized_graph)\n",
    "                tf.import_graph_def(od_graph_def, name='')\n",
    "        self.graph = detection_graph\n",
    "        \n",
    "        \n",
    "        self.image_tensor = detection_graph.get_tensor_by_name('image_tensor:0')\n",
    "        self.boxes_tensor = detection_graph.get_tensor_by_name('detection_boxes:0')\n",
    "        self.scores_tensor = detection_graph.get_tensor_by_name('detection_scores:0')\n",
    "        self.classes_tensor = detection_graph.get_tensor_by_name('detection_classes:0')\n",
    "        self.tf = tf\n",
    "        import pickle\n",
    "        f = open(categorypath,'rb')\n",
    "        self.categories = pickle.loads(f.read())\n",
    "        f.close()\n",
    "        \n",
    "        \n",
    "    def load_image_into_numpy_array(self,image):\n",
    "        import numpy as np\n",
    "        (im_width, im_height) = image.size\n",
    "        return np.array(image.getdata()).reshape((im_height, im_width, 3)).astype(np.uint8)\n",
    "    def predict(self,image_path):\n",
    "        import PIL.Image as Image\n",
    "        import numpy as np\n",
    "        import collections\n",
    "        with self.graph.as_default():\n",
    "            with self.tf.Session(graph=self.graph) as sess:\n",
    "                image = Image.open(image_path)\n",
    "                image_np = self.load_image_into_numpy_array(image)\n",
    "                image_np_expanded = np.expand_dims(image_np, axis=0)\n",
    "                (boxes, scores, classes) = sess.run(\n",
    "                    [self.boxes_tensor, self.scores_tensor, self.classes_tensor],feed_dict={self.image_tensor: image_np_expanded})\n",
    "                box = tuple(boxes[0].tolist())\n",
    "#                 print(box)\n",
    "                ymin, xmin, ymax, xmax = box[0]\n",
    "                im_width, im_height = image.size\n",
    "                (left, right, top, bottom) = (xmin * im_width, xmax * im_width,\n",
    "                                  ymin * im_height, ymax * im_height)\n",
    "                left = int(left) -0\n",
    "                right = int(right) +0\n",
    "                top = int(top) +0\n",
    "                bottom = int(bottom) -0\n",
    "                img = image.crop((left,top,right,bottom))\n",
    "                counted = collections.Counter(classes.tolist()[0])\n",
    "                indx=int(counted.most_common()[0][0])\n",
    "                pred = (self.categories[indx-1]['name'])\n",
    "                pred_score = (scores[0][0])\n",
    "                return (img,pred,pred_score)"
>>>>>>> 2da1c16bdadb11f247b045de500a1ef8bdc0580b
   ]
  },
  {
   "cell_type": "code",
<<<<<<< HEAD
   "execution_count": 2,
=======
   "execution_count": 13,
>>>>>>> 2da1c16bdadb11f247b045de500a1ef8bdc0580b
   "metadata": {
    "collapsed": true
   },
   "outputs": [],
   "source": [
    "PATH_TO_CKPT = './v3.pb'\n",
<<<<<<< HEAD
    "#Change path to Sim.pb for simulator\n",
    "#v3 is for the real life run\n",
=======
>>>>>>> 2da1c16bdadb11f247b045de500a1ef8bdc0580b
    "PATH_TO_LABELS = \"./labelmap_an.pbtxt\""
   ]
  },
  {
   "cell_type": "code",
<<<<<<< HEAD
   "execution_count": 3,
   "metadata": {},
=======
   "execution_count": 14,
   "metadata": {
    "collapsed": true
   },
>>>>>>> 2da1c16bdadb11f247b045de500a1ef8bdc0580b
   "outputs": [],
   "source": [
    "p = predictor(modelpath=PATH_TO_CKPT,categorypath='./categories.pickle')"
   ]
  },
  {
   "cell_type": "code",
<<<<<<< HEAD
   "execution_count": 4,
=======
   "execution_count": 15,
>>>>>>> 2da1c16bdadb11f247b045de500a1ef8bdc0580b
   "metadata": {
    "collapsed": true
   },
   "outputs": [],
   "source": [
    "from glob import glob\n",
    "from random import shuffle"
   ]
  },
  {
   "cell_type": "code",
<<<<<<< HEAD
   "execution_count": 5,
=======
   "execution_count": 16,
>>>>>>> 2da1c16bdadb11f247b045de500a1ef8bdc0580b
   "metadata": {
    "collapsed": true
   },
   "outputs": [],
   "source": [
    "TEST_IMAGE_PATHS = glob('./Test_img/*.png')\n",
    "shuffle(TEST_IMAGE_PATHS)"
   ]
  },
  {
   "cell_type": "code",
<<<<<<< HEAD
   "execution_count": 16,
   "metadata": {},
=======
   "execution_count": 23,
   "metadata": {
    "collapsed": true
   },
>>>>>>> 2da1c16bdadb11f247b045de500a1ef8bdc0580b
   "outputs": [],
   "source": [
    "img,pred,preds = p.predict(TEST_IMAGE_PATHS[0])"
   ]
  },
  {
   "cell_type": "code",
<<<<<<< HEAD
   "execution_count": 17,
=======
   "execution_count": 24,
>>>>>>> 2da1c16bdadb11f247b045de500a1ef8bdc0580b
   "metadata": {},
   "outputs": [
    {
     "data": {
<<<<<<< HEAD
      "image/png": "iVBORw0KGgoAAAANSUhEUgAAABkAAABICAIAAACMWclmAAAK3klEQVR4nFVY244k13GMiMyq7p7Z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\n",
      "text/plain": [
       "<PIL.Image.Image image mode=RGB size=25x72 at 0x7F5EFF282CC0>"
      ]
     },
     "execution_count": 17,
=======
      "image/png": "iVBORw0KGgoAAAANSUhEUgAAACEAAABOCAIAAAAhJOi3AAAOzklEQVR4nIWZS3NkR3Klv+MeNzMB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\naYOYca4J/weyCfkbiiyUOwAAAABJRU5ErkJggg==\n",
      "text/plain": [
       "<PIL.Image.Image image mode=RGB size=33x78 at 0x7F127EA09550>"
      ]
     },
     "execution_count": 24,
>>>>>>> 2da1c16bdadb11f247b045de500a1ef8bdc0580b
     "metadata": {},
     "output_type": "execute_result"
    }
   ],
   "source": [
    "img"
   ]
  },
  {
   "cell_type": "code",
<<<<<<< HEAD
   "execution_count": 18,
=======
   "execution_count": 25,
>>>>>>> 2da1c16bdadb11f247b045de500a1ef8bdc0580b
   "metadata": {},
   "outputs": [
    {
     "data": {
      "text/plain": [
<<<<<<< HEAD
       "'Yellow'"
      ]
     },
     "execution_count": 18,
=======
       "'Green'"
      ]
     },
     "execution_count": 25,
>>>>>>> 2da1c16bdadb11f247b045de500a1ef8bdc0580b
     "metadata": {},
     "output_type": "execute_result"
    }
   ],
   "source": [
    "pred"
   ]
  },
  {
   "cell_type": "code",
<<<<<<< HEAD
   "execution_count": 19,
=======
   "execution_count": 26,
>>>>>>> 2da1c16bdadb11f247b045de500a1ef8bdc0580b
   "metadata": {},
   "outputs": [
    {
     "data": {
      "text/plain": [
<<<<<<< HEAD
       "0.1523685"
      ]
     },
     "execution_count": 19,
=======
       "0.059573822"
      ]
     },
     "execution_count": 26,
>>>>>>> 2da1c16bdadb11f247b045de500a1ef8bdc0580b
     "metadata": {},
     "output_type": "execute_result"
    }
   ],
   "source": [
    "preds"
   ]
  },
  {
   "cell_type": "markdown",
   "metadata": {
    "collapsed": true
   },
   "source": [
    "Credits to Anthony S for preparing the training record"
   ]
  },
  {
   "cell_type": "code",
<<<<<<< HEAD
   "execution_count": 10,
   "metadata": {},
   "outputs": [
    {
     "data": {
      "text/plain": [
       "[{'id': 1, 'name': 'Green'},\n",
       " {'id': 2, 'name': 'Red'},\n",
       " {'id': 3, 'name': 'GreenLeft'},\n",
       " {'id': 4, 'name': 'GreenRight'},\n",
       " {'id': 5, 'name': 'RedLeft'},\n",
       " {'id': 6, 'name': 'RedRight'},\n",
       " {'id': 7, 'name': 'Yellow'},\n",
       " {'id': 8, 'name': 'off'},\n",
       " {'id': 9, 'name': 'RedStraight'},\n",
       " {'id': 10, 'name': 'GreenStraight'},\n",
       " {'id': 11, 'name': 'GreenStraightLeft'},\n",
       " {'id': 12, 'name': 'GreenStraightRight'},\n",
       " {'id': 13, 'name': 'RedStraightLeft'},\n",
       " {'id': 14, 'name': 'RedStraightRight'}]"
      ]
     },
     "execution_count": 10,
     "metadata": {},
     "output_type": "execute_result"
    }
   ],
   "source": [
    "p.categories"
   ]
  },
  {
   "cell_type": "code",
=======
>>>>>>> 2da1c16bdadb11f247b045de500a1ef8bdc0580b
   "execution_count": null,
   "metadata": {
    "collapsed": true
   },
   "outputs": [],
   "source": []
  }
 ],
 "metadata": {
  "kernelspec": {
   "display_name": "Python 3",
   "language": "python",
   "name": "python3"
  },
  "language_info": {
   "codemirror_mode": {
    "name": "ipython",
    "version": 3
   },
   "file_extension": ".py",
   "mimetype": "text/x-python",
   "name": "python",
   "nbconvert_exporter": "python",
   "pygments_lexer": "ipython3",
   "version": "3.6.2"
  }
 },
 "nbformat": 4,
 "nbformat_minor": 2
}
